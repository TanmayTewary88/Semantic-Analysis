{
  "cells": [
    {
      "cell_type": "code",
      "execution_count": 3,
      "metadata": {
        "colab": {
          "base_uri": "https://localhost:8080/",
          "height": 90
        },
        "id": "qK9A5WsQGnr6",
        "outputId": "f766e634-05b8-43bf-a037-d0ec1bb6ab97"
      },
      "outputs": [
        {
          "ename": "NameError",
          "evalue": "name 'files' is not defined",
          "output_type": "error",
          "traceback": [
            "\u001b[1;31m---------------------------------------------------------------------------\u001b[0m",
            "\u001b[1;31mNameError\u001b[0m                                 Traceback (most recent call last)",
            "Cell \u001b[1;32mIn[3], line 5\u001b[0m\n\u001b[0;32m      2\u001b[0m \u001b[38;5;28;01mimport\u001b[39;00m \u001b[38;5;21;01mos\u001b[39;00m\n\u001b[0;32m      4\u001b[0m \u001b[38;5;66;03m# Upload the zip file using the file upload widget\u001b[39;00m\n\u001b[1;32m----> 5\u001b[0m uploaded \u001b[38;5;241m=\u001b[39m \u001b[43mfiles\u001b[49m\u001b[38;5;241m.\u001b[39mupload()\n\u001b[0;32m      7\u001b[0m \u001b[38;5;66;03m# Specify the name of the uploaded zip file\u001b[39;00m\n\u001b[0;32m      8\u001b[0m zip_file_name \u001b[38;5;241m=\u001b[39m \u001b[38;5;28mnext\u001b[39m(\u001b[38;5;28miter\u001b[39m(uploaded))\n",
            "\u001b[1;31mNameError\u001b[0m: name 'files' is not defined"
          ]
        }
      ],
      "source": [
        "\n",
        "import zipfile\n",
        "import os\n",
        "\n",
        "# Upload the zip file using the file upload widget\n",
        "uploaded = files.upload()\n",
        "\n",
        "# Specify the name of the uploaded zip file\n",
        "zip_file_name = next(iter(uploaded))\n",
        "\n",
        "# Specify the directory to extract the contents\n",
        "extracted_folder = '/content'\n",
        "\n",
        "# Create the target directory if it doesn't exist\n",
        "if not os.path.exists(extracted_folder):\n",
        "    os.makedirs(extracted_folder)\n",
        "\n",
        "# Extract the contents of the zip file\n",
        "with zipfile.ZipFile(zip_file_name, 'r') as zip_ref:\n",
        "    zip_ref.extractall(extracted_folder)\n",
        "\n",
        "print(f\"Contents of '{zip_file_name}' have been extracted to '{extracted_folder}'.\")"
      ]
    },
    {
      "cell_type": "code",
      "execution_count": null,
      "metadata": {
        "colab": {
          "base_uri": "https://localhost:8080/"
        },
        "id": "z5kAZlisJoJZ",
        "outputId": "11e83938-93ee-4162-bd2f-4e8779d841d1"
      },
      "outputs": [
        {
          "name": "stdout",
          "output_type": "stream",
          "text": [
            "MoviePy - Writing audio in /content/audio/muniba-mazari-inspirational-speech-whatsapp-status-1280-ytshorts.savetube.me.mp3\n"
          ]
        },
        {
          "name": "stderr",
          "output_type": "stream",
          "text": []
        },
        {
          "name": "stdout",
          "output_type": "stream",
          "text": [
            "MoviePy - Done.\n",
            "Audio extracted from muniba-mazari-inspirational-speech-whatsapp-status-1280-ytshorts.savetube.me.mp4 and saved as /content/audio/muniba-mazari-inspirational-speech-whatsapp-status-1280-ytshorts.savetube.me.mp3\n",
            "MoviePy - Writing audio in /content/audio/before-you-chase-winning-watch-this-motivation-mindset-inspiration-1280-ytshorts.savetube.me.mp3\n"
          ]
        },
        {
          "name": "stderr",
          "output_type": "stream",
          "text": []
        },
        {
          "name": "stdout",
          "output_type": "stream",
          "text": [
            "MoviePy - Done.\n",
            "Audio extracted from before-you-chase-winning-watch-this-motivation-mindset-inspiration-1280-ytshorts.savetube.me.mp4 and saved as /content/audio/before-you-chase-winning-watch-this-motivation-mindset-inspiration-1280-ytshorts.savetube.me.mp3\n",
            "MoviePy - Writing audio in /content/audio/steve-harvey-inspirational-speech-motivational-short-video-incredible-you-720-ytshorts.savetube.me.mp3\n"
          ]
        },
        {
          "name": "stderr",
          "output_type": "stream",
          "text": []
        },
        {
          "name": "stdout",
          "output_type": "stream",
          "text": [
            "MoviePy - Done.\n",
            "Audio extracted from steve-harvey-inspirational-speech-motivational-short-video-incredible-you-720-ytshorts.savetube.me.mp4 and saved as /content/audio/steve-harvey-inspirational-speech-motivational-short-video-incredible-you-720-ytshorts.savetube.me.mp3\n",
            "MoviePy - Writing audio in /content/audio/learn-to-be-alone-sadhguru-1280-ytshorts.savetube.me.mp3\n"
          ]
        },
        {
          "name": "stderr",
          "output_type": "stream",
          "text": []
        },
        {
          "name": "stdout",
          "output_type": "stream",
          "text": [
            "MoviePy - Done.\n",
            "Audio extracted from learn-to-be-alone-sadhguru-1280-ytshorts.savetube.me.mp4 and saved as /content/audio/learn-to-be-alone-sadhguru-1280-ytshorts.savetube.me.mp3\n",
            "MoviePy - Writing audio in /content/audio/give-it-your-all-motivational-speech-1280-ytshorts.savetube.me (1).mp3\n"
          ]
        },
        {
          "name": "stderr",
          "output_type": "stream",
          "text": []
        },
        {
          "name": "stdout",
          "output_type": "stream",
          "text": [
            "MoviePy - Done.\n",
            "Audio extracted from give-it-your-all-motivational-speech-1280-ytshorts.savetube.me (1).mp4 and saved as /content/audio/give-it-your-all-motivational-speech-1280-ytshorts.savetube.me (1).mp3\n",
            "MoviePy - Writing audio in /content/audio/30-second-inspirational-status-for-whatsapp-best-motivational-whatsapp-status-motivationalvideo-720-ytshorts.savetube.me.mp3\n"
          ]
        },
        {
          "name": "stderr",
          "output_type": "stream",
          "text": []
        },
        {
          "name": "stdout",
          "output_type": "stream",
          "text": [
            "MoviePy - Done.\n",
            "Audio extracted from 30-second-inspirational-status-for-whatsapp-best-motivational-whatsapp-status-motivationalvideo-720-ytshorts.savetube.me.mp4 and saved as /content/audio/30-second-inspirational-status-for-whatsapp-best-motivational-whatsapp-status-motivationalvideo-720-ytshorts.savetube.me.mp3\n",
            "MoviePy - Writing audio in /content/audio/life-will-not-be-easy-motivational-speech-shorts-720-ytshorts.savetube.me.mp3\n"
          ]
        },
        {
          "name": "stderr",
          "output_type": "stream",
          "text": []
        },
        {
          "name": "stdout",
          "output_type": "stream",
          "text": [
            "MoviePy - Done.\n",
            "Audio extracted from life-will-not-be-easy-motivational-speech-shorts-720-ytshorts.savetube.me.mp4 and saved as /content/audio/life-will-not-be-easy-motivational-speech-shorts-720-ytshorts.savetube.me.mp3\n",
            "MoviePy - Writing audio in /content/audio/get-better-every-day-motivational-speech-1280-ytshorts.savetube.me.mp3\n"
          ]
        },
        {
          "name": "stderr",
          "output_type": "stream",
          "text": []
        },
        {
          "name": "stdout",
          "output_type": "stream",
          "text": [
            "MoviePy - Done.\n",
            "Audio extracted from get-better-every-day-motivational-speech-1280-ytshorts.savetube.me.mp4 and saved as /content/audio/get-better-every-day-motivational-speech-1280-ytshorts.savetube.me.mp3\n",
            "MoviePy - Writing audio in /content/audio/30-sec-high-motivational-video-inspiration-motivated-bepositive-millionaire-480-ytshorts.savetube.me.mp3\n"
          ]
        },
        {
          "name": "stderr",
          "output_type": "stream",
          "text": []
        },
        {
          "name": "stdout",
          "output_type": "stream",
          "text": [
            "MoviePy - Done.\n",
            "Audio extracted from 30-sec-high-motivational-video-inspiration-motivated-bepositive-millionaire-480-ytshorts.savetube.me.mp4 and saved as /content/audio/30-sec-high-motivational-video-inspiration-motivated-bepositive-millionaire-480-ytshorts.savetube.me.mp3\n",
            "MoviePy - Writing audio in /content/audio/english-motivational-speech-whatsapp-status-motivational-video-whatsapp-status-motivational-status-720-ytshorts.savetube.me.mp3\n"
          ]
        },
        {
          "name": "stderr",
          "output_type": "stream",
          "text": []
        },
        {
          "name": "stdout",
          "output_type": "stream",
          "text": [
            "MoviePy - Done.\n",
            "Audio extracted from english-motivational-speech-whatsapp-status-motivational-video-whatsapp-status-motivational-status-720-ytshorts.savetube.me.mp4 and saved as /content/audio/english-motivational-speech-whatsapp-status-motivational-video-whatsapp-status-motivational-status-720-ytshorts.savetube.me.mp3\n",
            "MoviePy - Writing audio in /content/audio/english-motivational-video-whatsapp-status-motivational-speech-in-english-720-ytshorts.savetube.me.mp3\n"
          ]
        },
        {
          "name": "stderr",
          "output_type": "stream",
          "text": []
        },
        {
          "name": "stdout",
          "output_type": "stream",
          "text": [
            "MoviePy - Done.\n",
            "Audio extracted from english-motivational-video-whatsapp-status-motivational-speech-in-english-720-ytshorts.savetube.me.mp4 and saved as /content/audio/english-motivational-video-whatsapp-status-motivational-speech-in-english-720-ytshorts.savetube.me.mp3\n",
            "MoviePy - Writing audio in /content/audio/get-up-and-grind-motivational-speech-1280-ytshorts.savetube.me.mp3\n"
          ]
        },
        {
          "name": "stderr",
          "output_type": "stream",
          "text": []
        },
        {
          "name": "stdout",
          "output_type": "stream",
          "text": [
            "MoviePy - Done.\n",
            "Audio extracted from get-up-and-grind-motivational-speech-1280-ytshorts.savetube.me.mp4 and saved as /content/audio/get-up-and-grind-motivational-speech-1280-ytshorts.savetube.me.mp3\n",
            "MoviePy - Writing audio in /content/audio/do-what-is-hard-motivational-speech-1080-ytshorts.savetube.me.mp3\n"
          ]
        },
        {
          "name": "stderr",
          "output_type": "stream",
          "text": []
        },
        {
          "name": "stdout",
          "output_type": "stream",
          "text": [
            "MoviePy - Done.\n",
            "Audio extracted from do-what-is-hard-motivational-speech-1080-ytshorts.savetube.me.mp4 and saved as /content/audio/do-what-is-hard-motivational-speech-1080-ytshorts.savetube.me.mp3\n",
            "MoviePy - Writing audio in /content/audio/don-t-give-up-motivational-speech-1280-ytshorts.savetube.me.mp3\n"
          ]
        },
        {
          "name": "stderr",
          "output_type": "stream",
          "text": []
        },
        {
          "name": "stdout",
          "output_type": "stream",
          "text": [
            "MoviePy - Done.\n",
            "Audio extracted from don-t-give-up-motivational-speech-1280-ytshorts.savetube.me.mp4 and saved as /content/audio/don-t-give-up-motivational-speech-1280-ytshorts.savetube.me.mp3\n",
            "MoviePy - Writing audio in /content/audio/powerful-inspirational-quote-short-motivational-video-1280-ytshorts.savetube.me.mp3\n"
          ]
        },
        {
          "name": "stderr",
          "output_type": "stream",
          "text": []
        },
        {
          "name": "stdout",
          "output_type": "stream",
          "text": [
            "MoviePy - Done.\n",
            "Audio extracted from powerful-inspirational-quote-short-motivational-video-1280-ytshorts.savetube.me.mp4 and saved as /content/audio/powerful-inspirational-quote-short-motivational-video-1280-ytshorts.savetube.me.mp3\n",
            "MoviePy - Writing audio in /content/audio/find-a-good-boss-jack-ma-motivation-1280-ytshorts.savetube.me.mp3\n"
          ]
        },
        {
          "name": "stderr",
          "output_type": "stream",
          "text": []
        },
        {
          "name": "stdout",
          "output_type": "stream",
          "text": [
            "MoviePy - Done.\n",
            "Audio extracted from find-a-good-boss-jack-ma-motivation-1280-ytshorts.savetube.me.mp4 and saved as /content/audio/find-a-good-boss-jack-ma-motivation-1280-ytshorts.savetube.me.mp3\n",
            "MoviePy - Writing audio in /content/audio/powerful-motivational-speech-short-30-second-quote-1280-ytshorts.savetube.me.mp3\n"
          ]
        },
        {
          "name": "stderr",
          "output_type": "stream",
          "text": []
        },
        {
          "name": "stdout",
          "output_type": "stream",
          "text": [
            "MoviePy - Done.\n",
            "Audio extracted from powerful-motivational-speech-short-30-second-quote-1280-ytshorts.savetube.me.mp4 and saved as /content/audio/powerful-motivational-speech-short-30-second-quote-1280-ytshorts.savetube.me.mp3\n",
            "MoviePy - Writing audio in /content/audio/dream-big-rashmika-mandanna-1280-ytshorts.savetube.me.mp3\n"
          ]
        },
        {
          "name": "stderr",
          "output_type": "stream",
          "text": []
        },
        {
          "name": "stdout",
          "output_type": "stream",
          "text": [
            "MoviePy - Done.\n",
            "Audio extracted from dream-big-rashmika-mandanna-1280-ytshorts.savetube.me.mp4 and saved as /content/audio/dream-big-rashmika-mandanna-1280-ytshorts.savetube.me.mp3\n",
            "MoviePy - Writing audio in /content/audio/best-short-motivational-speech-video-15-seconds-shorts-amazing-think-720-ytshorts.savetube.me.mp3\n"
          ]
        },
        {
          "name": "stderr",
          "output_type": "stream",
          "text": []
        },
        {
          "name": "stdout",
          "output_type": "stream",
          "text": [
            "MoviePy - Done.\n",
            "Audio extracted from best-short-motivational-speech-video-15-seconds-shorts-amazing-think-720-ytshorts.savetube.me.mp4 and saved as /content/audio/best-short-motivational-speech-video-15-seconds-shorts-amazing-think-720-ytshorts.savetube.me.mp3\n",
            "MoviePy - Writing audio in /content/audio/never-give-up-motivational-speech-1280-ytshorts.savetube.me.mp3\n"
          ]
        },
        {
          "name": "stderr",
          "output_type": "stream",
          "text": []
        },
        {
          "name": "stdout",
          "output_type": "stream",
          "text": [
            "MoviePy - Done.\n",
            "Audio extracted from never-give-up-motivational-speech-1280-ytshorts.savetube.me.mp4 and saved as /content/audio/never-give-up-motivational-speech-1280-ytshorts.savetube.me.mp3\n",
            "MoviePy - Writing audio in /content/audio/Muniba Mazari motivational status.mp3\n"
          ]
        },
        {
          "name": "stderr",
          "output_type": "stream",
          "text": []
        },
        {
          "name": "stdout",
          "output_type": "stream",
          "text": [
            "MoviePy - Done.\n",
            "Audio extracted from Muniba Mazari motivational status.mp4 and saved as /content/audio/Muniba Mazari motivational status.mp3\n",
            "MoviePy - Writing audio in /content/audio/never-surrender-powerful-motivational-speech-by-kobe-bryant-720-ytshorts.savetube.me.mp3\n"
          ]
        },
        {
          "name": "stderr",
          "output_type": "stream",
          "text": []
        },
        {
          "name": "stdout",
          "output_type": "stream",
          "text": [
            "MoviePy - Done.\n",
            "Audio extracted from never-surrender-powerful-motivational-speech-by-kobe-bryant-720-ytshorts.savetube.me.mp4 and saved as /content/audio/never-surrender-powerful-motivational-speech-by-kobe-bryant-720-ytshorts.savetube.me.mp3\n",
            "MoviePy - Writing audio in /content/audio/master-your-craft-motivational-speech-1280-ytshorts.savetube.me.mp3\n"
          ]
        },
        {
          "name": "stderr",
          "output_type": "stream",
          "text": []
        },
        {
          "name": "stdout",
          "output_type": "stream",
          "text": [
            "MoviePy - Done.\n",
            "Audio extracted from master-your-craft-motivational-speech-1280-ytshorts.savetube.me.mp4 and saved as /content/audio/master-your-craft-motivational-speech-1280-ytshorts.savetube.me.mp3\n",
            "MoviePy - Writing audio in /content/audio/Best Motivational Words- Muniba Mazari _ Motivational Video _ Incredible You (1).mp3\n"
          ]
        },
        {
          "name": "stderr",
          "output_type": "stream",
          "text": []
        },
        {
          "name": "stdout",
          "output_type": "stream",
          "text": [
            "MoviePy - Done.\n",
            "Audio extracted from Best Motivational Words- Muniba Mazari _ Motivational Video _ Incredible You (1).mp4 and saved as /content/audio/Best Motivational Words- Muniba Mazari _ Motivational Video _ Incredible You (1).mp3\n",
            "Audio extraction completed.\n"
          ]
        }
      ],
      "source": [
        "import os\n",
        "from moviepy.editor import *\n",
        "\n",
        "# Specify the path to the video folder on Google Drive\n",
        "video_folder = '/content/Video s'\n",
        "\n",
        "# Output folder for saving audio files\n",
        "output_folder = '/content/audio'\n",
        "\n",
        "# Ensure the output folder exists, create it if not\n",
        "if not os.path.exists(output_folder):\n",
        "    os.makedirs(output_folder)\n",
        "\n",
        "# Iterate through the video files in the folder\n",
        "for filename in os.listdir(video_folder):\n",
        "    if filename.endswith('.mp4') or filename.endswith('.avi'):\n",
        "        # Get the full path of the video file\n",
        "        video_path = os.path.join(video_folder, filename)\n",
        "\n",
        "        # Load the video file\n",
        "        video_clip = VideoFileClip(video_path)\n",
        "\n",
        "        # Extract the audio from the video clip\n",
        "        audio_clip = video_clip.audio\n",
        "\n",
        "        # Output audio file path\n",
        "        output_audio_path = os.path.join(output_folder, f\"{os.path.splitext(filename)[0]}.mp3\")\n",
        "\n",
        "        # Save the extracted audio as an MP3 file\n",
        "        audio_clip.write_audiofile(output_audio_path)\n",
        "\n",
        "        print(f\"Audio extracted from {filename} and saved as {output_audio_path}\")\n",
        "\n",
        "print(\"Audio extraction completed.\")"
      ]
    },
    {
      "cell_type": "code",
      "execution_count": null,
      "metadata": {
        "colab": {
          "base_uri": "https://localhost:8080/"
        },
        "id": "h7rI4AVXQi8U",
        "outputId": "02adab43-7bb6-4138-838d-bb0301941a06"
      },
      "outputs": [
        {
          "name": "stdout",
          "output_type": "stream",
          "text": [
            "Collecting SpeechRecognition\n",
            "  Downloading SpeechRecognition-3.10.0-py2.py3-none-any.whl (32.8 MB)\n",
            "\u001b[2K     \u001b[90m━━━━━━━━━━━━━━━━━━━━━━━━━━━━━━━━━━━━━━━━\u001b[0m \u001b[32m32.8/32.8 MB\u001b[0m \u001b[31m32.0 MB/s\u001b[0m eta \u001b[36m0:00:00\u001b[0m\n",
            "\u001b[?25hRequirement already satisfied: requests>=2.26.0 in /usr/local/lib/python3.10/dist-packages (from SpeechRecognition) (2.31.0)\n",
            "Requirement already satisfied: charset-normalizer<4,>=2 in /usr/local/lib/python3.10/dist-packages (from requests>=2.26.0->SpeechRecognition) (3.3.2)\n",
            "Requirement already satisfied: idna<4,>=2.5 in /usr/local/lib/python3.10/dist-packages (from requests>=2.26.0->SpeechRecognition) (3.6)\n",
            "Requirement already satisfied: urllib3<3,>=1.21.1 in /usr/local/lib/python3.10/dist-packages (from requests>=2.26.0->SpeechRecognition) (2.0.7)\n",
            "Requirement already satisfied: certifi>=2017.4.17 in /usr/local/lib/python3.10/dist-packages (from requests>=2.26.0->SpeechRecognition) (2023.11.17)\n",
            "Installing collected packages: SpeechRecognition\n",
            "Successfully installed SpeechRecognition-3.10.0\n",
            "Collecting pydub\n",
            "  Downloading pydub-0.25.1-py2.py3-none-any.whl (32 kB)\n",
            "Installing collected packages: pydub\n",
            "Successfully installed pydub-0.25.1\n",
            "Requirement already satisfied: pydub[soundfile] in /usr/local/lib/python3.10/dist-packages (0.25.1)\n",
            "\u001b[33mWARNING: pydub 0.25.1 does not provide the extra 'soundfile'\u001b[0m\u001b[33m\n",
            "\u001b[0m"
          ]
        }
      ],
      "source": [
        "!pip install SpeechRecognition\n",
        "!pip install pydub\n",
        "!pip install pydub[soundfile]"
      ]
    },
    {
      "cell_type": "code",
      "execution_count": null,
      "metadata": {
        "colab": {
          "base_uri": "https://localhost:8080/"
        },
        "id": "rmFcyDxDKCPr",
        "outputId": "bbeb9666-b078-461d-af04-0a5d7d4acb51"
      },
      "outputs": [
        {
          "name": "stdout",
          "output_type": "stream",
          "text": [
            "Speech Recognition could not understand audio in file: before-you-chase-winning-watch-this-motivation-mindset-inspiration-1280-ytshorts.savetube.me.mp3\n",
            "Speech Recognition could not understand audio in file: get-up-and-grind-motivational-speech-1280-ytshorts.savetube.me.mp3\n",
            "Speech Recognition could not understand audio in file: master-your-craft-motivational-speech-1280-ytshorts.savetube.me.mp3\n",
            "Speech Recognition could not understand audio in file: english-motivational-speech-whatsapp-status-motivational-video-whatsapp-status-motivational-status-720-ytshorts.savetube.me.mp3\n",
            "Speech Recognition could not understand audio in file: 30-sec-high-motivational-video-inspiration-motivated-bepositive-millionaire-480-ytshorts.savetube.me.mp3\n",
            "Audio to text conversion completed.\n"
          ]
        }
      ],
      "source": [
        "import os\n",
        "import speech_recognition as sr\n",
        "from pydub import AudioSegment\n",
        "import pandas as pd\n",
        "\n",
        "# Function to convert audio file to text using SpeechRecognition\n",
        "def audio_to_text(audio_file):\n",
        "    recognizer = sr.Recognizer()\n",
        "    with sr.AudioFile(audio_file) as source:\n",
        "        audio_data = recognizer.record(source)\n",
        "        text = recognizer.recognize_google(audio_data)\n",
        "    return text\n",
        "\n",
        "# Function to convert audio files in a folder to text and save in CSV\n",
        "def process_audio_folder(input_folder, output_csv):\n",
        "    data = {'Audio File': [], 'Text': []}\n",
        "\n",
        "    # Iterate through audio files in the folder\n",
        "    for filename in os.listdir(input_folder):\n",
        "        if filename.endswith(('.mp3', '.wav')):\n",
        "            audio_path = os.path.join(input_folder, filename)\n",
        "\n",
        "            # Load audio file using pydub\n",
        "            audio = AudioSegment.from_file(audio_path)\n",
        "\n",
        "            # Convert audio to PCM WAV format\n",
        "            audio = audio.set_frame_rate(16000)  # Set the frame rate to 16 kHz\n",
        "            audio.export(audio_path, format=\"wav\")\n",
        "\n",
        "            try:\n",
        "                # Convert audio to text\n",
        "                text_result = audio_to_text(audio_path)\n",
        "\n",
        "                # Store results in the data dictionary\n",
        "                data['Audio File'].append(filename)\n",
        "                data['Text'].append(text_result)\n",
        "\n",
        "            except sr.UnknownValueError:\n",
        "                print(f\"Speech Recognition could not understand audio in file: {filename}\")\n",
        "            except sr.RequestError as e:\n",
        "                print(f\"Could not request results from Google Speech Recognition service; {e}\")\n",
        "\n",
        "    # Create a DataFrame and save to CSV\n",
        "    df = pd.DataFrame(data)\n",
        "    df.to_csv(output_csv, index=False)\n",
        "\n",
        "# Specify the path to the folder containing audio files\n",
        "audio_folder = '/content/audio'\n",
        "\n",
        "# Specify the path to save the CSV file\n",
        "output_csv = '/content/result.csv'\n",
        "\n",
        "# Process audio files and save results to CSV\n",
        "process_audio_folder(audio_folder, output_csv)\n",
        "\n",
        "print(\"Audio to text conversion completed.\")\n"
      ]
    },
    {
      "cell_type": "code",
      "execution_count": null,
      "metadata": {
        "colab": {
          "base_uri": "https://localhost:8080/"
        },
        "id": "8atOPbmoLNtz",
        "outputId": "34779b2a-0b87-4e1b-c274-0945036eeaca"
      },
      "outputs": [
        {
          "name": "stdout",
          "output_type": "stream",
          "text": [
            "Requirement already satisfied: gensim in /usr/local/lib/python3.10/dist-packages (4.3.2)\n",
            "Requirement already satisfied: pandas in /usr/local/lib/python3.10/dist-packages (1.5.3)\n",
            "Requirement already satisfied: numpy>=1.18.5 in /usr/local/lib/python3.10/dist-packages (from gensim) (1.23.5)\n",
            "Requirement already satisfied: scipy>=1.7.0 in /usr/local/lib/python3.10/dist-packages (from gensim) (1.11.4)\n",
            "Requirement already satisfied: smart-open>=1.8.1 in /usr/local/lib/python3.10/dist-packages (from gensim) (6.4.0)\n",
            "Requirement already satisfied: python-dateutil>=2.8.1 in /usr/local/lib/python3.10/dist-packages (from pandas) (2.8.2)\n",
            "Requirement already satisfied: pytz>=2020.1 in /usr/local/lib/python3.10/dist-packages (from pandas) (2023.3.post1)\n",
            "Requirement already satisfied: six>=1.5 in /usr/local/lib/python3.10/dist-packages (from python-dateutil>=2.8.1->pandas) (1.16.0)\n"
          ]
        }
      ],
      "source": [
        "pip install gensim pandas"
      ]
    },
    {
      "cell_type": "code",
      "execution_count": null,
      "metadata": {
        "colab": {
          "base_uri": "https://localhost:8080/"
        },
        "id": "GxoOJl90L60H",
        "outputId": "73366d67-d8bd-4332-b75e-ce9b2bb3366e"
      },
      "outputs": [
        {
          "name": "stdout",
          "output_type": "stream",
          "text": [
            "Requirement already satisfied: spacy in /usr/local/lib/python3.10/dist-packages (3.6.1)\n",
            "Requirement already satisfied: spacy-legacy<3.1.0,>=3.0.11 in /usr/local/lib/python3.10/dist-packages (from spacy) (3.0.12)\n",
            "Requirement already satisfied: spacy-loggers<2.0.0,>=1.0.0 in /usr/local/lib/python3.10/dist-packages (from spacy) (1.0.5)\n",
            "Requirement already satisfied: murmurhash<1.1.0,>=0.28.0 in /usr/local/lib/python3.10/dist-packages (from spacy) (1.0.10)\n",
            "Requirement already satisfied: cymem<2.1.0,>=2.0.2 in /usr/local/lib/python3.10/dist-packages (from spacy) (2.0.8)\n",
            "Requirement already satisfied: preshed<3.1.0,>=3.0.2 in /usr/local/lib/python3.10/dist-packages (from spacy) (3.0.9)\n",
            "Requirement already satisfied: thinc<8.2.0,>=8.1.8 in /usr/local/lib/python3.10/dist-packages (from spacy) (8.1.12)\n",
            "Requirement already satisfied: wasabi<1.2.0,>=0.9.1 in /usr/local/lib/python3.10/dist-packages (from spacy) (1.1.2)\n",
            "Requirement already satisfied: srsly<3.0.0,>=2.4.3 in /usr/local/lib/python3.10/dist-packages (from spacy) (2.4.8)\n",
            "Requirement already satisfied: catalogue<2.1.0,>=2.0.6 in /usr/local/lib/python3.10/dist-packages (from spacy) (2.0.10)\n",
            "Requirement already satisfied: typer<0.10.0,>=0.3.0 in /usr/local/lib/python3.10/dist-packages (from spacy) (0.9.0)\n",
            "Requirement already satisfied: pathy>=0.10.0 in /usr/local/lib/python3.10/dist-packages (from spacy) (0.10.3)\n",
            "Requirement already satisfied: smart-open<7.0.0,>=5.2.1 in /usr/local/lib/python3.10/dist-packages (from spacy) (6.4.0)\n",
            "Requirement already satisfied: tqdm<5.0.0,>=4.38.0 in /usr/local/lib/python3.10/dist-packages (from spacy) (4.66.1)\n",
            "Requirement already satisfied: numpy>=1.15.0 in /usr/local/lib/python3.10/dist-packages (from spacy) (1.23.5)\n",
            "Requirement already satisfied: requests<3.0.0,>=2.13.0 in /usr/local/lib/python3.10/dist-packages (from spacy) (2.31.0)\n",
            "Requirement already satisfied: pydantic!=1.8,!=1.8.1,<3.0.0,>=1.7.4 in /usr/local/lib/python3.10/dist-packages (from spacy) (1.10.13)\n",
            "Requirement already satisfied: jinja2 in /usr/local/lib/python3.10/dist-packages (from spacy) (3.1.2)\n",
            "Requirement already satisfied: setuptools in /usr/local/lib/python3.10/dist-packages (from spacy) (67.7.2)\n",
            "Requirement already satisfied: packaging>=20.0 in /usr/local/lib/python3.10/dist-packages (from spacy) (23.2)\n",
            "Requirement already satisfied: langcodes<4.0.0,>=3.2.0 in /usr/local/lib/python3.10/dist-packages (from spacy) (3.3.0)\n",
            "Requirement already satisfied: typing-extensions>=4.2.0 in /usr/local/lib/python3.10/dist-packages (from pydantic!=1.8,!=1.8.1,<3.0.0,>=1.7.4->spacy) (4.5.0)\n",
            "Requirement already satisfied: charset-normalizer<4,>=2 in /usr/local/lib/python3.10/dist-packages (from requests<3.0.0,>=2.13.0->spacy) (3.3.2)\n",
            "Requirement already satisfied: idna<4,>=2.5 in /usr/local/lib/python3.10/dist-packages (from requests<3.0.0,>=2.13.0->spacy) (3.6)\n",
            "Requirement already satisfied: urllib3<3,>=1.21.1 in /usr/local/lib/python3.10/dist-packages (from requests<3.0.0,>=2.13.0->spacy) (2.0.7)\n",
            "Requirement already satisfied: certifi>=2017.4.17 in /usr/local/lib/python3.10/dist-packages (from requests<3.0.0,>=2.13.0->spacy) (2023.11.17)\n",
            "Requirement already satisfied: blis<0.8.0,>=0.7.8 in /usr/local/lib/python3.10/dist-packages (from thinc<8.2.0,>=8.1.8->spacy) (0.7.11)\n",
            "Requirement already satisfied: confection<1.0.0,>=0.0.1 in /usr/local/lib/python3.10/dist-packages (from thinc<8.2.0,>=8.1.8->spacy) (0.1.4)\n",
            "Requirement already satisfied: click<9.0.0,>=7.1.1 in /usr/local/lib/python3.10/dist-packages (from typer<0.10.0,>=0.3.0->spacy) (8.1.7)\n",
            "Requirement already satisfied: MarkupSafe>=2.0 in /usr/local/lib/python3.10/dist-packages (from jinja2->spacy) (2.1.3)\n"
          ]
        }
      ],
      "source": [
        "pip install spacy"
      ]
    },
    {
      "cell_type": "code",
      "execution_count": null,
      "metadata": {
        "colab": {
          "base_uri": "https://localhost:8080/"
        },
        "id": "WYF_HRDpL80F",
        "outputId": "3f44afe1-4d49-4d8d-e234-90a6d2e9ccbd"
      },
      "outputs": [
        {
          "name": "stdout",
          "output_type": "stream",
          "text": [
            "2023-12-03 17:46:24.986373: E tensorflow/compiler/xla/stream_executor/cuda/cuda_dnn.cc:9342] Unable to register cuDNN factory: Attempting to register factory for plugin cuDNN when one has already been registered\n",
            "2023-12-03 17:46:24.986468: E tensorflow/compiler/xla/stream_executor/cuda/cuda_fft.cc:609] Unable to register cuFFT factory: Attempting to register factory for plugin cuFFT when one has already been registered\n",
            "2023-12-03 17:46:24.986531: E tensorflow/compiler/xla/stream_executor/cuda/cuda_blas.cc:1518] Unable to register cuBLAS factory: Attempting to register factory for plugin cuBLAS when one has already been registered\n",
            "2023-12-03 17:46:24.999827: I tensorflow/core/platform/cpu_feature_guard.cc:182] This TensorFlow binary is optimized to use available CPU instructions in performance-critical operations.\n",
            "To enable the following instructions: AVX2 FMA, in other operations, rebuild TensorFlow with the appropriate compiler flags.\n",
            "2023-12-03 17:46:27.212163: W tensorflow/compiler/tf2tensorrt/utils/py_utils.cc:38] TF-TRT Warning: Could not find TensorRT\n",
            "Collecting en-core-web-md==3.6.0\n",
            "  Downloading https://github.com/explosion/spacy-models/releases/download/en_core_web_md-3.6.0/en_core_web_md-3.6.0-py3-none-any.whl (42.8 MB)\n",
            "\u001b[2K     \u001b[90m━━━━━━━━━━━━━━━━━━━━━━━━━━━━━━━━━━━━━━━━\u001b[0m \u001b[32m42.8/42.8 MB\u001b[0m \u001b[31m15.1 MB/s\u001b[0m eta \u001b[36m0:00:00\u001b[0m\n",
            "\u001b[?25hRequirement already satisfied: spacy<3.7.0,>=3.6.0 in /usr/local/lib/python3.10/dist-packages (from en-core-web-md==3.6.0) (3.6.1)\n",
            "Requirement already satisfied: spacy-legacy<3.1.0,>=3.0.11 in /usr/local/lib/python3.10/dist-packages (from spacy<3.7.0,>=3.6.0->en-core-web-md==3.6.0) (3.0.12)\n",
            "Requirement already satisfied: spacy-loggers<2.0.0,>=1.0.0 in /usr/local/lib/python3.10/dist-packages (from spacy<3.7.0,>=3.6.0->en-core-web-md==3.6.0) (1.0.5)\n",
            "Requirement already satisfied: murmurhash<1.1.0,>=0.28.0 in /usr/local/lib/python3.10/dist-packages (from spacy<3.7.0,>=3.6.0->en-core-web-md==3.6.0) (1.0.10)\n",
            "Requirement already satisfied: cymem<2.1.0,>=2.0.2 in /usr/local/lib/python3.10/dist-packages (from spacy<3.7.0,>=3.6.0->en-core-web-md==3.6.0) (2.0.8)\n",
            "Requirement already satisfied: preshed<3.1.0,>=3.0.2 in /usr/local/lib/python3.10/dist-packages (from spacy<3.7.0,>=3.6.0->en-core-web-md==3.6.0) (3.0.9)\n",
            "Requirement already satisfied: thinc<8.2.0,>=8.1.8 in /usr/local/lib/python3.10/dist-packages (from spacy<3.7.0,>=3.6.0->en-core-web-md==3.6.0) (8.1.12)\n",
            "Requirement already satisfied: wasabi<1.2.0,>=0.9.1 in /usr/local/lib/python3.10/dist-packages (from spacy<3.7.0,>=3.6.0->en-core-web-md==3.6.0) (1.1.2)\n",
            "Requirement already satisfied: srsly<3.0.0,>=2.4.3 in /usr/local/lib/python3.10/dist-packages (from spacy<3.7.0,>=3.6.0->en-core-web-md==3.6.0) (2.4.8)\n",
            "Requirement already satisfied: catalogue<2.1.0,>=2.0.6 in /usr/local/lib/python3.10/dist-packages (from spacy<3.7.0,>=3.6.0->en-core-web-md==3.6.0) (2.0.10)\n",
            "Requirement already satisfied: typer<0.10.0,>=0.3.0 in /usr/local/lib/python3.10/dist-packages (from spacy<3.7.0,>=3.6.0->en-core-web-md==3.6.0) (0.9.0)\n",
            "Requirement already satisfied: pathy>=0.10.0 in /usr/local/lib/python3.10/dist-packages (from spacy<3.7.0,>=3.6.0->en-core-web-md==3.6.0) (0.10.3)\n",
            "Requirement already satisfied: smart-open<7.0.0,>=5.2.1 in /usr/local/lib/python3.10/dist-packages (from spacy<3.7.0,>=3.6.0->en-core-web-md==3.6.0) (6.4.0)\n",
            "Requirement already satisfied: tqdm<5.0.0,>=4.38.0 in /usr/local/lib/python3.10/dist-packages (from spacy<3.7.0,>=3.6.0->en-core-web-md==3.6.0) (4.66.1)\n",
            "Requirement already satisfied: numpy>=1.15.0 in /usr/local/lib/python3.10/dist-packages (from spacy<3.7.0,>=3.6.0->en-core-web-md==3.6.0) (1.23.5)\n",
            "Requirement already satisfied: requests<3.0.0,>=2.13.0 in /usr/local/lib/python3.10/dist-packages (from spacy<3.7.0,>=3.6.0->en-core-web-md==3.6.0) (2.31.0)\n",
            "Requirement already satisfied: pydantic!=1.8,!=1.8.1,<3.0.0,>=1.7.4 in /usr/local/lib/python3.10/dist-packages (from spacy<3.7.0,>=3.6.0->en-core-web-md==3.6.0) (1.10.13)\n",
            "Requirement already satisfied: jinja2 in /usr/local/lib/python3.10/dist-packages (from spacy<3.7.0,>=3.6.0->en-core-web-md==3.6.0) (3.1.2)\n",
            "Requirement already satisfied: setuptools in /usr/local/lib/python3.10/dist-packages (from spacy<3.7.0,>=3.6.0->en-core-web-md==3.6.0) (67.7.2)\n",
            "Requirement already satisfied: packaging>=20.0 in /usr/local/lib/python3.10/dist-packages (from spacy<3.7.0,>=3.6.0->en-core-web-md==3.6.0) (23.2)\n",
            "Requirement already satisfied: langcodes<4.0.0,>=3.2.0 in /usr/local/lib/python3.10/dist-packages (from spacy<3.7.0,>=3.6.0->en-core-web-md==3.6.0) (3.3.0)\n",
            "Requirement already satisfied: typing-extensions>=4.2.0 in /usr/local/lib/python3.10/dist-packages (from pydantic!=1.8,!=1.8.1,<3.0.0,>=1.7.4->spacy<3.7.0,>=3.6.0->en-core-web-md==3.6.0) (4.5.0)\n",
            "Requirement already satisfied: charset-normalizer<4,>=2 in /usr/local/lib/python3.10/dist-packages (from requests<3.0.0,>=2.13.0->spacy<3.7.0,>=3.6.0->en-core-web-md==3.6.0) (3.3.2)\n",
            "Requirement already satisfied: idna<4,>=2.5 in /usr/local/lib/python3.10/dist-packages (from requests<3.0.0,>=2.13.0->spacy<3.7.0,>=3.6.0->en-core-web-md==3.6.0) (3.6)\n",
            "Requirement already satisfied: urllib3<3,>=1.21.1 in /usr/local/lib/python3.10/dist-packages (from requests<3.0.0,>=2.13.0->spacy<3.7.0,>=3.6.0->en-core-web-md==3.6.0) (2.0.7)\n",
            "Requirement already satisfied: certifi>=2017.4.17 in /usr/local/lib/python3.10/dist-packages (from requests<3.0.0,>=2.13.0->spacy<3.7.0,>=3.6.0->en-core-web-md==3.6.0) (2023.11.17)\n",
            "Requirement already satisfied: blis<0.8.0,>=0.7.8 in /usr/local/lib/python3.10/dist-packages (from thinc<8.2.0,>=8.1.8->spacy<3.7.0,>=3.6.0->en-core-web-md==3.6.0) (0.7.11)\n",
            "Requirement already satisfied: confection<1.0.0,>=0.0.1 in /usr/local/lib/python3.10/dist-packages (from thinc<8.2.0,>=8.1.8->spacy<3.7.0,>=3.6.0->en-core-web-md==3.6.0) (0.1.4)\n",
            "Requirement already satisfied: click<9.0.0,>=7.1.1 in /usr/local/lib/python3.10/dist-packages (from typer<0.10.0,>=0.3.0->spacy<3.7.0,>=3.6.0->en-core-web-md==3.6.0) (8.1.7)\n",
            "Requirement already satisfied: MarkupSafe>=2.0 in /usr/local/lib/python3.10/dist-packages (from jinja2->spacy<3.7.0,>=3.6.0->en-core-web-md==3.6.0) (2.1.3)\n",
            "Installing collected packages: en-core-web-md\n",
            "Successfully installed en-core-web-md-3.6.0\n",
            "\u001b[38;5;2m✔ Download and installation successful\u001b[0m\n",
            "You can now load the package via spacy.load('en_core_web_md')\n"
          ]
        }
      ],
      "source": [
        "!python -m spacy download en_core_web_md # used to download the medium-sized English language model"
      ]
    },
    {
      "cell_type": "code",
      "execution_count": null,
      "metadata": {
        "colab": {
          "base_uri": "https://localhost:8080/"
        },
        "id": "lKAoHA2aOa6S",
        "outputId": "f51490a9-593e-4d77-d2fe-f65fc2f55910"
      },
      "outputs": [
        {
          "name": "stdout",
          "output_type": "stream",
          "text": [
            "NER results saved to: output_with_ner_results.csv\n"
          ]
        }
      ],
      "source": [
        "import pandas as pd\n",
        "import spacy\n",
        "\n",
        "# Load the spaCy model for NER\n",
        "nlp = spacy.load(\"en_core_web_sm\")\n",
        "\n",
        "# Function to perform NER on a text\n",
        "def perform_ner(text):\n",
        "    doc = nlp(text)\n",
        "    entities = [(ent.text, ent.label_) for ent in doc.ents]\n",
        "    return entities\n",
        "\n",
        "# Read the CSV file into a DataFrame\n",
        "input_csv_path = '/content/result.csv'\n",
        "df = pd.read_csv(input_csv_path)\n",
        "\n",
        "# Apply NER to each row in the 'text_column' and create a new column 'ner_results'\n",
        "df['ner_results'] = df['Text'].apply(perform_ner)\n",
        "\n",
        "# Save the DataFrame with NER results to a new CSV file\n",
        "output_csv_path = 'output_with_ner_results.csv'\n",
        "df.to_csv(output_csv_path, index=False)\n",
        "\n",
        "print(f\"NER results saved to: {output_csv_path}\")\n"
      ]
    },
    {
      "cell_type": "code",
      "execution_count": null,
      "metadata": {
        "colab": {
          "base_uri": "https://localhost:8080/"
        },
        "id": "covphqGLOwZv",
        "outputId": "c00c6b51-150f-4544-958b-1adcc03ad44a"
      },
      "outputs": [
        {
          "name": "stdout",
          "output_type": "stream",
          "text": [
            "                                                 Text  \\\n",
            "0   practice and practice and practice practice pr...   \n",
            "1   the happiest people are not always the most su...   \n",
            "2   life is definitely not easy so for you the onl...   \n",
            "3   failure is an option should be an option but g...   \n",
            "4   everybody has a turn back moment you have a mo...   \n",
            "5   please dream big I'm sorry if the speech is to...   \n",
            "6   I Believe In The Power of Words many people sp...   \n",
            "7   you take a break sometime just 24 hours and do...   \n",
            "8   I asked for strength and God gave me difficult...   \n",
            "9   if you 20 to 30 years old please find a good b...   \n",
            "10  a person's character is not judged when they r...   \n",
            "11  we're up here because we had a dream and let n...   \n",
            "12  I don't know what your future is but if you're...   \n",
            "13  before one can leave the situation they are in...   \n",
            "14  there's a saying that you can't start a new ch...   \n",
            "15  at the end of every day you look yourself in t...   \n",
            "16  it is okay to be scared it is okay to cry ever...   \n",
            "17  when you said I'm all in will you really all i...   \n",
            "18  I don't feel like going to work it's very easy...   \n",
            "\n",
            "                                         dependencies  \n",
            "0   [(practice, nsubj, makes), (and, cc, practice)...  \n",
            "1   [(the, det, people), (happiest, amod, people),...  \n",
            "2   [(life, nsubj, is), (is, ROOT, is), (definitel...  \n",
            "3   [(failure, nsubj, is), (is, ROOT, is), (an, de...  \n",
            "4   [(everybody, nsubj, has), (has, ROOT, has), (a...  \n",
            "5   [(please, intj, dream), (dream, ROOT, dream), ...  \n",
            "6   [(I, nsubj, Believe), (Believe, ROOT, Believe)...  \n",
            "7   [(you, nsubj, take), (take, ccomp, certify), (...  \n",
            "8   [(I, nsubj, asked), (asked, ROOT, asked), (for...  \n",
            "9   [(if, mark, old), (you, quantmod, 30), (20, qu...  \n",
            "10  [(a, det, person), (person, poss, character), ...  \n",
            "11  [(we, nsubj, 're), ('re, ROOT, 're), (up, advm...  \n",
            "12  [(I, nsubj, know), (do, aux, know), (n't, neg,...  \n",
            "13  [(before, mark, leave), (one, nsubj, leave), (...  \n",
            "14  [(there, expl, 's), ('s, ROOT, 's), (a, det, s...  \n",
            "15  [(at, prep, look), (the, det, end), (end, pobj...  \n",
            "16  [(it, nsubj, is), (is, ROOT, is), (okay, acomp...  \n",
            "17  [(when, advmod, said), (you, nsubj, said), (sa...  \n",
            "18  [(I, nsubj, feel), (do, aux, feel), (n't, neg,...  \n"
          ]
        }
      ],
      "source": [
        "import pandas as pd\n",
        "import spacy\n",
        "\n",
        "# Load the English language model for spaCy\n",
        "nlp = spacy.load(\"en_core_web_sm\")\n",
        "\n",
        "# Read the CSV file\n",
        "csv_file_path = '/content/result.csv'\n",
        "df = pd.read_csv(csv_file_path)\n",
        "\n",
        "# Column containing the text data for parsing\n",
        "text_column = 'Text'\n",
        "\n",
        "# Function to perform dependency parsing on a text\n",
        "def parse_dependencies(text):\n",
        "    doc = nlp(text)\n",
        "    dependencies = [(token.text, token.dep_, token.head.text) for token in doc]\n",
        "    return dependencies\n",
        "\n",
        "# Apply dependency parsing to the specified column\n",
        "df['dependencies'] = df[text_column].apply(parse_dependencies)\n",
        "\n",
        "# Save the results to a new CSV file\n",
        "output_csv_path = '/content/parsed_file.csv'\n",
        "df.to_csv(output_csv_path, index=False)\n",
        "\n",
        "# Display the parsed data\n",
        "print(df[['Text', 'dependencies']])\n"
      ]
    },
    {
      "cell_type": "code",
      "execution_count": null,
      "metadata": {
        "colab": {
          "base_uri": "https://localhost:8080/"
        },
        "id": "ATE3Ih2gP1TS",
        "outputId": "6f995543-b74d-4ca2-e593-6722ebcd49ab"
      },
      "outputs": [
        {
          "name": "stdout",
          "output_type": "stream",
          "text": [
            "Requirement already satisfied: textblob in /usr/local/lib/python3.10/dist-packages (0.17.1)\n",
            "Requirement already satisfied: nltk>=3.1 in /usr/local/lib/python3.10/dist-packages (from textblob) (3.8.1)\n",
            "Requirement already satisfied: click in /usr/local/lib/python3.10/dist-packages (from nltk>=3.1->textblob) (8.1.7)\n",
            "Requirement already satisfied: joblib in /usr/local/lib/python3.10/dist-packages (from nltk>=3.1->textblob) (1.3.2)\n",
            "Requirement already satisfied: regex>=2021.8.3 in /usr/local/lib/python3.10/dist-packages (from nltk>=3.1->textblob) (2023.6.3)\n",
            "Requirement already satisfied: tqdm in /usr/local/lib/python3.10/dist-packages (from nltk>=3.1->textblob) (4.66.1)\n"
          ]
        }
      ],
      "source": [
        "pip install textblob"
      ]
    },
    {
      "cell_type": "code",
      "execution_count": null,
      "metadata": {
        "colab": {
          "base_uri": "https://localhost:8080/"
        },
        "id": "sB1WbfkdQKhC",
        "outputId": "49772d7d-d8a9-45ae-80ed-0939825d06ec"
      },
      "outputs": [
        {
          "name": "stdout",
          "output_type": "stream",
          "text": [
            "                                                 Text Sentiment\n",
            "0   practice and practice and practice practice pr...  Positive\n",
            "1   the happiest people are not always the most su...  Positive\n",
            "2   life is definitely not easy so for you the onl...  Negative\n",
            "3   failure is an option should be an option but g...  Negative\n",
            "4   everybody has a turn back moment you have a mo...   Neutral\n",
            "5   please dream big I'm sorry if the speech is to...  Negative\n",
            "6   I Believe In The Power of Words many people sp...  Positive\n",
            "7   you take a break sometime just 24 hours and do...  Positive\n",
            "8   I asked for strength and God gave me difficult...  Positive\n",
            "9   if you 20 to 30 years old please find a good b...  Positive\n",
            "10  a person's character is not judged when they r...  Negative\n",
            "11  we're up here because we had a dream and let n...  Positive\n",
            "12  I don't know what your future is but if you're...  Positive\n",
            "13  before one can leave the situation they are in...  Positive\n",
            "14  there's a saying that you can't start a new ch...  Positive\n",
            "15  at the end of every day you look yourself in t...  Positive\n",
            "16  it is okay to be scared it is okay to cry ever...  Negative\n",
            "17  when you said I'm all in will you really all i...  Positive\n",
            "18  I don't feel like going to work it's very easy...  Negative\n"
          ]
        }
      ],
      "source": [
        "import pandas as pd\n",
        "from textblob import TextBlob\n",
        "\n",
        "# Load your CSV file\n",
        "csv_path = '/content/result.csv'\n",
        "df = pd.read_csv(csv_path)\n",
        "\n",
        "# Assuming your CSV file has a 'Text' column\n",
        "text_column = 'Text'\n",
        "\n",
        "# Perform sentiment analysis using TextBlob\n",
        "def get_sentiment(text):\n",
        "    analysis = TextBlob(str(text))\n",
        "    # Classify the sentiment as positive, negative, or neutral\n",
        "    if analysis.sentiment.polarity > 0:\n",
        "        return 'Positive'\n",
        "    elif analysis.sentiment.polarity < 0:\n",
        "        return 'Negative'\n",
        "    else:\n",
        "        return 'Neutral'\n",
        "\n",
        "# Apply the sentiment analysis function to the 'Text' column\n",
        "df['Sentiment'] = df[text_column].apply(get_sentiment)\n",
        "\n",
        "# Save the results to a new CSV file\n",
        "output_csv_path = '/content/Pragmatic_Analysis.csv'\n",
        "df.to_csv(output_csv_path, index=False)\n",
        "\n",
        "# Display the results\n",
        "print(df[['Text', 'Sentiment']])\n"
      ]
    },
    {
      "cell_type": "code",
      "execution_count": null,
      "metadata": {
        "colab": {
          "base_uri": "https://localhost:8080/"
        },
        "id": "YRABN2q0Q8Co",
        "outputId": "b33e9a12-3653-43c5-e44f-6de68d48e315"
      },
      "outputs": [
        {
          "name": "stdout",
          "output_type": "stream",
          "text": [
            "Requirement already satisfied: pandas in /usr/local/lib/python3.10/dist-packages (1.5.3)\n",
            "Requirement already satisfied: gensim in /usr/local/lib/python3.10/dist-packages (4.3.2)\n",
            "Requirement already satisfied: nltk in /usr/local/lib/python3.10/dist-packages (3.8.1)\n",
            "Requirement already satisfied: python-dateutil>=2.8.1 in /usr/local/lib/python3.10/dist-packages (from pandas) (2.8.2)\n",
            "Requirement already satisfied: pytz>=2020.1 in /usr/local/lib/python3.10/dist-packages (from pandas) (2023.3.post1)\n",
            "Requirement already satisfied: numpy>=1.21.0 in /usr/local/lib/python3.10/dist-packages (from pandas) (1.23.5)\n",
            "Requirement already satisfied: scipy>=1.7.0 in /usr/local/lib/python3.10/dist-packages (from gensim) (1.11.4)\n",
            "Requirement already satisfied: smart-open>=1.8.1 in /usr/local/lib/python3.10/dist-packages (from gensim) (6.4.0)\n",
            "Requirement already satisfied: click in /usr/local/lib/python3.10/dist-packages (from nltk) (8.1.7)\n",
            "Requirement already satisfied: joblib in /usr/local/lib/python3.10/dist-packages (from nltk) (1.3.2)\n",
            "Requirement already satisfied: regex>=2021.8.3 in /usr/local/lib/python3.10/dist-packages (from nltk) (2023.6.3)\n",
            "Requirement already satisfied: tqdm in /usr/local/lib/python3.10/dist-packages (from nltk) (4.66.1)\n",
            "Requirement already satisfied: six>=1.5 in /usr/local/lib/python3.10/dist-packages (from python-dateutil>=2.8.1->pandas) (1.16.0)\n"
          ]
        }
      ],
      "source": [
        "pip install pandas gensim nltk"
      ]
    },
    {
      "cell_type": "code",
      "execution_count": null,
      "metadata": {
        "colab": {
          "base_uri": "https://localhost:8080/"
        },
        "id": "P6pAJbhiQ_Y4",
        "outputId": "fb4aa0af-b01f-4249-eee3-a9a04f8c7f45"
      },
      "outputs": [
        {
          "name": "stderr",
          "output_type": "stream",
          "text": [
            "[nltk_data] Downloading package stopwords to /root/nltk_data...\n",
            "[nltk_data]   Unzipping corpora/stopwords.zip.\n",
            "[nltk_data] Downloading package punkt to /root/nltk_data...\n",
            "[nltk_data]   Unzipping tokenizers/punkt.zip.\n",
            "[nltk_data] Downloading package wordnet to /root/nltk_data...\n"
          ]
        },
        {
          "name": "stdout",
          "output_type": "stream",
          "text": [
            "Topics:\n",
            "Topic 0: 0.037*\"option\" + 0.032*\"failure\" + 0.032*\"get\" + 0.028*\"okay\" + 0.019*\"always\" + 0.019*\"people\" + 0.019*\"fail\" + 0.015*\"going\" + 0.015*\"everything\" + 0.015*\"giving\"\n",
            "Topic 1: 0.023*\"one\" + 0.023*\"practice\" + 0.020*\"better\" + 0.020*\"day\" + 0.018*\"give\" + 0.015*\"dream\" + 0.015*\"never\" + 0.013*\"year\" + 0.013*\"hard\" + 0.013*\"keep\"\n",
            "Topic 2: 0.027*\"call\" + 0.018*\"word\" + 0.014*\"life\" + 0.014*\"asked\" + 0.010*\"know\" + 0.010*\"take\" + 0.010*\"use\" + 0.010*\"one\" + 0.010*\"break\" + 0.010*\"people\"\n",
            "                                                 Text  Topic\n",
            "0   practice and practice and practice practice pr...      1\n",
            "1   the happiest people are not always the most su...      0\n",
            "2   life is definitely not easy so for you the onl...      1\n",
            "3   failure is an option should be an option but g...      0\n",
            "4   everybody has a turn back moment you have a mo...      1\n",
            "5   please dream big I'm sorry if the speech is to...      1\n",
            "6   I Believe In The Power of Words many people sp...      2\n",
            "7   you take a break sometime just 24 hours and do...      2\n",
            "8   I asked for strength and God gave me difficult...      2\n",
            "9   if you 20 to 30 years old please find a good b...      0\n",
            "10  a person's character is not judged when they r...      0\n",
            "11  we're up here because we had a dream and let n...      1\n",
            "12  I don't know what your future is but if you're...      1\n",
            "13  before one can leave the situation they are in...      1\n",
            "14  there's a saying that you can't start a new ch...      2\n",
            "15  at the end of every day you look yourself in t...      1\n",
            "16  it is okay to be scared it is okay to cry ever...      0\n",
            "17  when you said I'm all in will you really all i...      0\n",
            "18  I don't feel like going to work it's very easy...      1\n"
          ]
        }
      ],
      "source": [
        "import pandas as pd\n",
        "from gensim import corpora, models\n",
        "from nltk.corpus import stopwords\n",
        "from nltk.tokenize import word_tokenize\n",
        "from nltk.stem import WordNetLemmatizer\n",
        "import nltk\n",
        "\n",
        "nltk.download('stopwords')\n",
        "nltk.download('punkt')\n",
        "nltk.download('wordnet')\n",
        "\n",
        "# Replace 'your_input_file.csv' with the actual path to your input CSV file\n",
        "input_file_path = '/content/result.csv'\n",
        "\n",
        "# Read the CSV file into a DataFrame\n",
        "df = pd.read_csv(input_file_path)\n",
        "\n",
        "# Preprocess the text data\n",
        "stop_words = set(stopwords.words('english'))\n",
        "lemmatizer = WordNetLemmatizer()\n",
        "\n",
        "def preprocess_text(text):\n",
        "    words = word_tokenize(str(text).lower())\n",
        "    words = [word for word in words if word.isalpha() and word not in stop_words]\n",
        "    words = [lemmatizer.lemmatize(word) for word in words]\n",
        "    return words\n",
        "\n",
        "df['ProcessedText'] = df['Text'].apply(preprocess_text)\n",
        "\n",
        "# Create a dictionary and corpus for topic modeling\n",
        "dictionary = corpora.Dictionary(df['ProcessedText'])\n",
        "corpus = [dictionary.doc2bow(text) for text in df['ProcessedText']]\n",
        "\n",
        "# Build the LDA model\n",
        "lda_model = models.LdaModel(corpus, num_topics=3, id2word=dictionary, passes=15)\n",
        "\n",
        "# Print the topics\n",
        "print(\"Topics:\")\n",
        "for topic_id, topic_words in lda_model.print_topics():\n",
        "    print(f\"Topic {topic_id}: {topic_words}\")\n",
        "\n",
        "# Assign topics to documents\n",
        "df['Topic'] = [max(lda_model[doc], key=lambda x: x[1])[0] for doc in corpus]\n",
        "\n",
        "# Display the DataFrame with assigned topics\n",
        "print(df[['Text', 'Topic']])\n"
      ]
    },
    {
      "cell_type": "code",
      "execution_count": null,
      "metadata": {
        "colab": {
          "base_uri": "https://localhost:8080/"
        },
        "id": "mcR0avOUPCnC",
        "outputId": "287116a1-d414-4a03-f348-c17757b47797"
      },
      "outputs": [
        {
          "name": "stdout",
          "output_type": "stream",
          "text": [
            "                                           Audio File  \\\n",
            "0   30-second-inspirational-status-for-whatsapp-be...   \n",
            "1   best-short-motivational-speech-video-15-second...   \n",
            "2   english-motivational-video-whatsapp-status-mot...   \n",
            "3   muniba-mazari-inspirational-speech-whatsapp-st...   \n",
            "4   steve-harvey-inspirational-speech-motivational...   \n",
            "5   dream-big-rashmika-mandanna-1280-ytshorts.save...   \n",
            "6   Best Motivational Words- Muniba Mazari _ Motiv...   \n",
            "7   learn-to-be-alone-sadhguru-1280-ytshorts.savet...   \n",
            "8   life-will-not-be-easy-motivational-speech-shor...   \n",
            "9   find-a-good-boss-jack-ma-motivation-1280-ytsho...   \n",
            "10  don-t-give-up-motivational-speech-1280-ytshort...   \n",
            "11  never-surrender-powerful-motivational-speech-b...   \n",
            "12  do-what-is-hard-motivational-speech-1080-ytsho...   \n",
            "13  powerful-motivational-speech-short-30-second-q...   \n",
            "14  powerful-inspirational-quote-short-motivationa...   \n",
            "15  get-better-every-day-motivational-speech-1280-...   \n",
            "16              Muniba Mazari motivational status.mp3   \n",
            "17  give-it-your-all-motivational-speech-1280-ytsh...   \n",
            "18  never-give-up-motivational-speech-1280-ytshort...   \n",
            "\n",
            "                                                 Text  semantic_similarity  \n",
            "0   practice and practice and practice practice pr...             0.187336  \n",
            "1   the happiest people are not always the most su...             0.092382  \n",
            "2   life is definitely not easy so for you the onl...             0.140933  \n",
            "3   failure is an option should be an option but g...             0.040134  \n",
            "4   everybody has a turn back moment you have a mo...             0.103127  \n",
            "5   please dream big I'm sorry if the speech is to...             0.036294  \n",
            "6   I Believe In The Power of Words many people sp...             0.010682  \n",
            "7   you take a break sometime just 24 hours and do...             0.414026  \n",
            "8   I asked for strength and God gave me difficult...             0.121354  \n",
            "9   if you 20 to 30 years old please find a good b...             0.112437  \n",
            "10  a person's character is not judged when they r...             0.180802  \n",
            "11  we're up here because we had a dream and let n...             0.102553  \n",
            "12  I don't know what your future is but if you're...             0.316583  \n",
            "13  before one can leave the situation they are in...             0.116530  \n",
            "14  there's a saying that you can't start a new ch...             0.161938  \n",
            "15  at the end of every day you look yourself in t...             0.335949  \n",
            "16  it is okay to be scared it is okay to cry ever...             0.461128  \n",
            "17  when you said I'm all in will you really all i...            -0.532419  \n",
            "18  I don't feel like going to work it's very easy...             0.242503  \n"
          ]
        }
      ],
      "source": [
        "import pandas as pd\n",
        "import spacy\n",
        "\n",
        "# Load spaCy model\n",
        "nlp = spacy.load('en_core_web_md')\n",
        "\n",
        "# Function to compute semantic similarity between two texts\n",
        "def compute_similarity(text1, text2):\n",
        "    doc1 = nlp(text1)\n",
        "    doc2 = nlp(text2)\n",
        "    return doc1.similarity(doc2)\n",
        "\n",
        "# Read the CSV file into a DataFrame\n",
        "csv_file_path = '/content/result.csv'\n",
        "df = pd.read_csv(csv_file_path)\n",
        "\n",
        "# Assuming your CSV file has columns named 'text1' and 'text2'\n",
        "df['semantic_similarity'] = df.apply(lambda row: compute_similarity(row['Audio File'], row['Text']), axis=1)\n",
        "\n",
        "# Save the DataFrame with the computed semantic similarity back to a new CSV file\n",
        "output_csv_path = 'output_file.csv'\n",
        "df.to_csv(output_csv_path, index=False)\n",
        "\n",
        "# Display the DataFrame with the new column\n",
        "print(df)\n"
      ]
    },
    {
      "cell_type": "code",
      "execution_count": null,
      "metadata": {
        "colab": {
          "base_uri": "https://localhost:8080/",
          "height": 564
        },
        "id": "eqk8CsUnSU-g",
        "outputId": "9c3d50b3-6207-43f5-b9fa-669f32b079ff"
      },
      "outputs": [
        {
          "data": {
            "image/png": "[encoded data removed]",
            "text/plain": [
              "<Figure size 1000x600 with 1 Axes>"
            ]
          },
          "metadata": {},
          "output_type": "display_data"
        }
      ],
      "source": [
        "import pandas as pd\n",
        "import seaborn as sns\n",
        "import matplotlib.pyplot as plt\n",
        "\n",
        "# Replace 'your_output_file.csv' with the actual path to your output CSV file\n",
        "output_file_path = '/content/result_sen.csv'\n",
        "\n",
        "# Read the CSV file into a DataFrame\n",
        "df = pd.read_csv('/content/Pragmatic_Analysis.csv')\n",
        "\n",
        "# Assuming 'Sentiment' column exists; replace with the actual column name\n",
        "if 'Sentiment' in df.columns:\n",
        "    # Sentiment Analysis Visualization\n",
        "    plt.figure(figsize=(10, 6))\n",
        "    sentiment_plot = sns.histplot(df['Sentiment'], bins=10, kde=True, color='skyblue')\n",
        "    sentiment_plot.set_title(\"Sentiment Analysis Results\")\n",
        "    sentiment_plot.set_xlabel(\"Sentiment Polarity\")\n",
        "    sentiment_plot.set_ylabel(\"Count\")\n",
        "\n",
        "    # Save the sentiment plot as an image (optional)\n",
        "    plt.savefig('sentiment_analysis_plot.png')\n",
        "\n",
        "    # Show the sentiment plot\n",
        "    plt.show()\n",
        "else:\n",
        "    print(\"No 'Sentiment' column found in the DataFrame.\")\n"
      ]
    }
  ],
  "metadata": {
    "colab": {
      "provenance": []
    },
    "kernelspec": {
      "display_name": "Python 3",
      "name": "python3"
    },
    "language_info": {
      "codemirror_mode": {
        "name": "ipython",
        "version": 3
      },
      "file_extension": ".py",
      "mimetype": "text/x-python",
      "name": "python",
      "nbconvert_exporter": "python",
      "pygments_lexer": "ipython3",
      "version": "3.12.0"
    }
  },
  "nbformat": 4,
  "nbformat_minor": 0
}
